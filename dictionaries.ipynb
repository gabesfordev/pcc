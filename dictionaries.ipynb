{
  "nbformat": 4,
  "nbformat_minor": 0,
  "metadata": {
    "colab": {
      "name": "dictionaries.ipynb",
      "provenance": [],
      "authorship_tag": "ABX9TyMlFYzSs64+enCgZVasUuqP",
      "include_colab_link": true
    },
    "kernelspec": {
      "name": "python3",
      "display_name": "Python 3"
    },
    "language_info": {
      "name": "python"
    }
  },
  "cells": [
    {
      "cell_type": "markdown",
      "metadata": {
        "id": "view-in-github",
        "colab_type": "text"
      },
      "source": [
        "<a href=\"https://colab.research.google.com/github/gabesfordev/pcc/blob/master/dictionaries.ipynb\" target=\"_parent\"><img src=\"https://colab.research.google.com/assets/colab-badge.svg\" alt=\"Open In Colab\"/></a>"
      ]
    },
    {
      "cell_type": "markdown",
      "metadata": {
        "id": "-TVLRcXGGKLd"
      },
      "source": [
        "# What are dictionaries?"
      ]
    },
    {
      "cell_type": "markdown",
      "metadata": {
        "id": "Pa-R9rjyGSTb"
      },
      "source": [
        "Python's dictionaries allow you to connect pieces of\n",
        "related information. Each piece of information in a\n",
        "dictionary is stored as a key-value pair. When you\n",
        "provide a key, Python returns the value associated\n",
        "with that key. You can loop through all the key-value\n",
        "pairs, all the keys, or all the values."
      ]
    },
    {
      "cell_type": "markdown",
      "metadata": {
        "id": "AjUW4RqKGXXr"
      },
      "source": [
        "# Defining a dictionary"
      ]
    },
    {
      "cell_type": "markdown",
      "metadata": {
        "id": "7pbvrf5GGi04"
      },
      "source": [
        "Use curly braces to define a dictionary. Use colons to connect keys and values, and use commas to separate individual key-value pairs."
      ]
    },
    {
      "cell_type": "markdown",
      "metadata": {
        "id": "dZsgCpQTG8MP"
      },
      "source": [
        "```\n",
        "Making a dictionary\n",
        "```"
      ]
    },
    {
      "cell_type": "code",
      "metadata": {
        "id": "B3Tcd4i1G-3N"
      },
      "source": [
        "alien_0 = {'color': 'green', 'points': 5}"
      ],
      "execution_count": null,
      "outputs": []
    },
    {
      "cell_type": "code",
      "metadata": {
        "colab": {
          "base_uri": "https://localhost:8080/"
        },
        "id": "T39Z8cxhHQaV",
        "outputId": "27538821-8492-404d-ca06-657169b1bee4"
      },
      "source": [
        "alien_0"
      ],
      "execution_count": null,
      "outputs": [
        {
          "output_type": "execute_result",
          "data": {
            "text/plain": [
              "{'color': 'green', 'points': 5}"
            ]
          },
          "metadata": {},
          "execution_count": 2
        }
      ]
    },
    {
      "cell_type": "code",
      "metadata": {
        "id": "sCO3cBqnJWZn"
      },
      "source": [
        ""
      ],
      "execution_count": null,
      "outputs": []
    }
  ]
}